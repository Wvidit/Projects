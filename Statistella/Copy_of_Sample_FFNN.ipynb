{
  "nbformat": 4,
  "nbformat_minor": 0,
  "metadata": {
    "colab": {
      "provenance": [],
      "gpuType": "V28"
    },
    "kernelspec": {
      "name": "python3",
      "display_name": "Python 3"
    },
    "language_info": {
      "name": "python"
    },
    "accelerator": "TPU"
  },
  "cells": [
    {
      "cell_type": "code",
      "execution_count": null,
      "metadata": {
        "id": "nQzjBi6mUApV",
        "colab": {
          "base_uri": "https://localhost:8080/"
        },
        "outputId": "3d8ec5e8-d612-4cce-dca5-e3bd2631176a"
      },
      "outputs": [
        {
          "output_type": "stream",
          "name": "stdout",
          "text": [
            "Requirement already satisfied: scikit-learn in /usr/local/lib/python3.10/dist-packages (1.6.0)\n",
            "Requirement already satisfied: numpy>=1.19.5 in /usr/local/lib/python3.10/dist-packages (from scikit-learn) (1.26.4)\n",
            "Requirement already satisfied: scipy>=1.6.0 in /usr/local/lib/python3.10/dist-packages (from scikit-learn) (1.13.1)\n",
            "Requirement already satisfied: joblib>=1.2.0 in /usr/local/lib/python3.10/dist-packages (from scikit-learn) (1.4.2)\n",
            "Requirement already satisfied: threadpoolctl>=3.1.0 in /usr/local/lib/python3.10/dist-packages (from scikit-learn) (3.5.0)\n"
          ]
        }
      ],
      "source": [
        "!pip install scikit-learn\n",
        "import tensorflow as tf\n",
        "import numpy as np\n",
        "import sklearn as sk\n",
        "import matplotlib.pyplot as plt\n",
        "from tensorflow.keras.losses import BinaryCrossentropy\n",
        "from tensorflow.keras.activations import relu, softmax, sigmoid\n",
        "from tensorflow.keras import regularizers\n",
        "from tensorflow.keras.models import Sequential\n",
        "from tensorflow.keras.layers import Dense\n",
        "from tensorflow.keras.optimizers import Adam\n",
        "from sklearn.metrics import classification_report"
      ]
    },
    {
      "cell_type": "markdown",
      "source": [
        "**Mounting Google Drive**"
      ],
      "metadata": {
        "id": "UcAQd2kPTGEF"
      }
    },
    {
      "cell_type": "code",
      "source": [
        "from google.colab import drive\n",
        "drive.mount('/content/drive')"
      ],
      "metadata": {
        "colab": {
          "base_uri": "https://localhost:8080/"
        },
        "id": "_VcXvrsES9KM",
        "outputId": "ad186fb3-7b4f-46d9-c3a8-465256c826d2"
      },
      "execution_count": null,
      "outputs": [
        {
          "output_type": "stream",
          "name": "stdout",
          "text": [
            "Mounted at /content/drive\n"
          ]
        }
      ]
    },
    {
      "cell_type": "markdown",
      "source": [
        "**Function used**\n",
        "\n",
        "\n",
        "*  To trim dataset:  https://drive.google.com/file/d/1QADrY4kxUQE5P3Nud32PFe5-a51zTZDu/view?usp=drive_link\n",
        "\n",
        "compile(data_ptr -> pandas dataframe file, fill_mode -> str)"
      ],
      "metadata": {
        "id": "N9doeufJUIbk"
      }
    },
    {
      "cell_type": "code",
      "source": [
        "import pandas as pd\n",
        "import seaborn as sns\n",
        "data = pd.read_csv('/content/drive/My Drive/Statistella/train.csv')\n",
        "# data = data.select_dtypes(exclude = ['object'])\n",
        "# corr_mat = data.corr()\n",
        "# sns.heatmap(corr_mat, annot = False, cmap = 'coolwarm')\n",
        "# plt.title('Correlation Matrix')\n",
        "# plt.show()"
      ],
      "metadata": {
        "id": "d6ApOV62V7s7"
      },
      "execution_count": null,
      "outputs": []
    },
    {
      "cell_type": "code",
      "source": [
        "# target = []\n",
        "# m = 0\n",
        "# for i in corr_mat:\n",
        "#   m+=1\n",
        "#   target.append(i)\n",
        "# print(target)\n",
        "# print(m)\n",
        "data.drop([\n",
        "\"CODE_GENDER\",\n",
        "\"DAYS_REGISTRATION\",\n",
        "\"FLAG_EMP_PHONE\",\n",
        "\"FLAG_MOBIL\",\n",
        "\"FLAG_WORK_PHONE\",\n",
        "\"HOUR_APPR_PROCESS_START\",\n",
        "\"LIVE_CITY_NOT_WORK_CITY\",\n",
        "\"LIVE_REGION_NOT_WORK_REGION\",\n",
        "\"NAME_TYPE_SUITE\",\n",
        "\"OCCUPATION_TYPE\",\n",
        "\"ORGANIZATION_TYPE\",\n",
        "\"REG_CITY_NOT_LIVE_CITY\",\n",
        "\"REG_CITY_NOT_WORK_CITY\",\n",
        "\"REG_REGION_NOT_LIVE_REGION\",\n",
        "\"REG_REGION_NOT_WORK_REGION\",\n",
        "\"REGION_POPULATION_RELATIVE\",\n",
        "\"REGION_RATING_CLIENT\",\n",
        "\"WEEKDAY_APPR_PROCESS_START\",\n",
        "\"ID\"], axis =1)\n",
        "\n",
        "from sklearn.preprocessing import LabelEncoder, OneHotEncoder\n",
        "from pandas.api.types import is_numeric_dtype\n",
        "\n",
        "encoder = OneHotEncoder(sparse_output=False, handle_unknown='ignore')\n",
        "\n",
        "for column in data.columns:\n",
        "    if not is_numeric_dtype(data[column]):\n",
        "      data[column] = encoder.fit_transform(data[[column]])\n",
        "\n",
        "import importlib.util, os\n",
        "spec = importlib.util.spec_from_file_location(\"fill\", \"/content/drive/My Drive/Statistella/data_compiler.py\")\n",
        "fill = importlib.util.module_from_spec(spec)\n",
        "spec.loader.exec_module(fill)\n",
        "\n",
        "fill.compile(data, \"mean\");\n",
        "\n",
        "# print(data.head(20))\n",
        "from sklearn.model_selection import train_test_split\n",
        "Y = data['TARGET']\n",
        "X = data.drop('TARGET', axis = 1)\n",
        "\n",
        "X_train, X_test, Y_train, Y_test = train_test_split(X, Y, test_size=0.2, random_state=42)"
      ],
      "metadata": {
        "id": "LUfWSyijdXzw",
        "collapsed": true
      },
      "execution_count": null,
      "outputs": []
    },
    {
      "cell_type": "code",
      "source": [
        "\n",
        "\n",
        "\n",
        "model1 = Sequential([\n",
        "    Dense(units = 8, activation = 'relu', bias_regularizer = regularizers.L1(0.01)),\n",
        "    Dense(units = 4, activation = 'relu'),\n",
        "    Dense(units = 1, activation = 'sigmoid'),\n",
        "])\n",
        "model1.compile(optimizer = Adam(learning_rate = 1e-5), loss = BinaryCrossentropy())\n",
        "model1.fit(X_train, Y_train, epochs = 30)\n"
      ],
      "metadata": {
        "id": "5KPM8aOpPzUq",
        "colab": {
          "base_uri": "https://localhost:8080/"
        },
        "outputId": "b0c9fcbb-5d0f-4007-f581-02f9bc7fdff9"
      },
      "execution_count": null,
      "outputs": [
        {
          "output_type": "stream",
          "name": "stdout",
          "text": [
            "Epoch 1/30\n",
            "5382/5382 [==============================] - 9s 2ms/step - loss: 45715.7695\n",
            "Epoch 2/30\n",
            "5382/5382 [==============================] - 8s 2ms/step - loss: 408.5279\n",
            "Epoch 3/30\n",
            "5382/5382 [==============================] - 9s 2ms/step - loss: 65.6769\n",
            "Epoch 4/30\n",
            "5382/5382 [==============================] - 9s 2ms/step - loss: 12.3112\n",
            "Epoch 5/30\n",
            "5382/5382 [==============================] - 8s 2ms/step - loss: 6.9570\n",
            "Epoch 6/30\n",
            "5382/5382 [==============================] - 9s 2ms/step - loss: 5.1085\n",
            "Epoch 7/30\n",
            "5382/5382 [==============================] - 9s 2ms/step - loss: 4.1514\n",
            "Epoch 8/30\n",
            "5382/5382 [==============================] - 9s 2ms/step - loss: 3.5665\n",
            "Epoch 9/30\n",
            "5382/5382 [==============================] - 9s 2ms/step - loss: 3.1066\n",
            "Epoch 10/30\n",
            "5382/5382 [==============================] - 9s 2ms/step - loss: 2.7494\n",
            "Epoch 11/30\n",
            "5382/5382 [==============================] - 8s 2ms/step - loss: 2.5334\n",
            "Epoch 12/30\n",
            "5382/5382 [==============================] - 9s 2ms/step - loss: 2.3576\n",
            "Epoch 13/30\n",
            "5382/5382 [==============================] - 9s 2ms/step - loss: 2.1211\n",
            "Epoch 14/30\n",
            "5382/5382 [==============================] - 9s 2ms/step - loss: 1.9755\n",
            "Epoch 15/30\n",
            "5382/5382 [==============================] - 9s 2ms/step - loss: 1.7896\n",
            "Epoch 16/30\n",
            "5382/5382 [==============================] - 8s 2ms/step - loss: 1.6315\n",
            "Epoch 17/30\n",
            "5382/5382 [==============================] - 9s 2ms/step - loss: 1.5311\n",
            "Epoch 18/30\n",
            "5382/5382 [==============================] - 8s 2ms/step - loss: 1.4369\n",
            "Epoch 19/30\n",
            "5382/5382 [==============================] - 8s 2ms/step - loss: 1.3359\n",
            "Epoch 20/30\n",
            "5382/5382 [==============================] - 8s 2ms/step - loss: 1.2508\n",
            "Epoch 21/30\n",
            "5382/5382 [==============================] - 8s 2ms/step - loss: 1.1899\n",
            "Epoch 22/30\n",
            "5382/5382 [==============================] - 8s 2ms/step - loss: 1.1386\n",
            "Epoch 23/30\n",
            "5382/5382 [==============================] - 8s 2ms/step - loss: 1.0890\n",
            "Epoch 24/30\n",
            "5382/5382 [==============================] - 8s 2ms/step - loss: 1.0365\n",
            "Epoch 25/30\n",
            "5382/5382 [==============================] - 8s 2ms/step - loss: 1.0010\n",
            "Epoch 26/30\n",
            "5382/5382 [==============================] - 9s 2ms/step - loss: 0.9480\n",
            "Epoch 27/30\n",
            "5382/5382 [==============================] - 8s 2ms/step - loss: 0.9121\n",
            "Epoch 28/30\n",
            "5382/5382 [==============================] - 8s 2ms/step - loss: 0.8751\n",
            "Epoch 29/30\n",
            "5382/5382 [==============================] - 9s 2ms/step - loss: 0.8338\n",
            "Epoch 30/30\n",
            "5382/5382 [==============================] - 8s 2ms/step - loss: 0.7998\n"
          ]
        },
        {
          "output_type": "execute_result",
          "data": {
            "text/plain": [
              "<keras.src.callbacks.History at 0x7dfc3312da20>"
            ]
          },
          "metadata": {},
          "execution_count": 55
        }
      ]
    },
    {
      "cell_type": "code",
      "source": [
        "model1.save('/content/drive/My Drive/Statistella/model1.h5')\n",
        "# Y_pred = model1.predict(X_test)\n",
        "# submission = []\n",
        "\n",
        "\n",
        "\n",
        "# # print(Y_pred)\n",
        "\n",
        "# from sklearn.metrics import roc_curve\n",
        "\n",
        "# # Compute ROC curve\n",
        "# fpr, tpr, thresholds = roc_curve(Y_test, Y_pred)\n",
        "\n",
        "# # Optimal threshold (You can choose based on your criterion)\n",
        "# optimal_idx = (tpr - fpr).argmax()\n",
        "# optimal_threshold = thresholds[optimal_idx]\n",
        "# print(\"Optimal Threshold:\", optimal_threshold)"
      ],
      "metadata": {
        "colab": {
          "base_uri": "https://localhost:8080/"
        },
        "id": "RVx3LCBpzZU1",
        "outputId": "00006d5a-f06e-47d5-e64c-c130c3ccfb60"
      },
      "execution_count": null,
      "outputs": [
        {
          "output_type": "stream",
          "name": "stderr",
          "text": [
            "/usr/local/lib/python3.10/dist-packages/keras/src/engine/training.py:3103: UserWarning: You are saving your model as an HDF5 file via `model.save()`. This file format is considered legacy. We recommend using instead the native Keras format, e.g. `model.save('my_model.keras')`.\n",
            "  saving_api.save_model(\n"
          ]
        }
      ]
    },
    {
      "cell_type": "code",
      "source": [],
      "metadata": {
        "id": "Eq0bcEHHj4R9"
      },
      "execution_count": null,
      "outputs": []
    },
    {
      "cell_type": "code",
      "source": [
        "Y_pred = model1.predict(X_test)\n",
        "submission = []\n",
        "submission = (Y_pred > 0.075).astype(int)\n",
        "submission = submission.reshape(Y_test.shape)\n",
        "\n",
        "print(classification_report(Y_test, submission))"
      ],
      "metadata": {
        "colab": {
          "base_uri": "https://localhost:8080/"
        },
        "id": "aED8hkhm20Zc",
        "outputId": "5fdf14c5-13e8-42e6-ccdb-cb4b72884bcd"
      },
      "execution_count": null,
      "outputs": [
        {
          "output_type": "stream",
          "name": "stdout",
          "text": [
            "1346/1346 [==============================] - 2s 1ms/step\n",
            "              precision    recall  f1-score   support\n",
            "\n",
            "           0       0.00      0.00      0.00     39629\n",
            "           1       0.08      1.00      0.15      3423\n",
            "\n",
            "    accuracy                           0.08     43052\n",
            "   macro avg       0.04      0.50      0.07     43052\n",
            "weighted avg       0.01      0.08      0.01     43052\n",
            "\n"
          ]
        },
        {
          "output_type": "stream",
          "name": "stderr",
          "text": [
            "/usr/local/lib/python3.10/dist-packages/sklearn/metrics/_classification.py:1565: UndefinedMetricWarning: Precision is ill-defined and being set to 0.0 in labels with no predicted samples. Use `zero_division` parameter to control this behavior.\n",
            "  _warn_prf(average, modifier, f\"{metric.capitalize()} is\", len(result))\n",
            "/usr/local/lib/python3.10/dist-packages/sklearn/metrics/_classification.py:1565: UndefinedMetricWarning: Precision is ill-defined and being set to 0.0 in labels with no predicted samples. Use `zero_division` parameter to control this behavior.\n",
            "  _warn_prf(average, modifier, f\"{metric.capitalize()} is\", len(result))\n",
            "/usr/local/lib/python3.10/dist-packages/sklearn/metrics/_classification.py:1565: UndefinedMetricWarning: Precision is ill-defined and being set to 0.0 in labels with no predicted samples. Use `zero_division` parameter to control this behavior.\n",
            "  _warn_prf(average, modifier, f\"{metric.capitalize()} is\", len(result))\n"
          ]
        }
      ]
    },
    {
      "cell_type": "code",
      "source": [
        "Y_pred = model1.predict(X_test)\n",
        "\n",
        "print(classification_report(Y_test, Y_pred))"
      ],
      "metadata": {
        "colab": {
          "base_uri": "https://localhost:8080/",
          "height": 366
        },
        "id": "dzk7pYCywl_s",
        "outputId": "806c17d7-ebd6-42de-ebf5-476ed6d4140b"
      },
      "execution_count": null,
      "outputs": [
        {
          "output_type": "stream",
          "name": "stdout",
          "text": [
            "1346/1346 [==============================] - 2s 1ms/step\n"
          ]
        },
        {
          "output_type": "error",
          "ename": "ValueError",
          "evalue": "Classification metrics can't handle a mix of binary and continuous targets",
          "traceback": [
            "\u001b[0;31m---------------------------------------------------------------------------\u001b[0m",
            "\u001b[0;31mValueError\u001b[0m                                Traceback (most recent call last)",
            "\u001b[0;32m<ipython-input-31-ed60bed9d366>\u001b[0m in \u001b[0;36m<cell line: 3>\u001b[0;34m()\u001b[0m\n\u001b[1;32m      1\u001b[0m \u001b[0mY_pred\u001b[0m \u001b[0;34m=\u001b[0m \u001b[0mmodel1\u001b[0m\u001b[0;34m.\u001b[0m\u001b[0mpredict\u001b[0m\u001b[0;34m(\u001b[0m\u001b[0mX_test\u001b[0m\u001b[0;34m)\u001b[0m\u001b[0;34m\u001b[0m\u001b[0;34m\u001b[0m\u001b[0m\n\u001b[1;32m      2\u001b[0m \u001b[0;34m\u001b[0m\u001b[0m\n\u001b[0;32m----> 3\u001b[0;31m \u001b[0mprint\u001b[0m\u001b[0;34m(\u001b[0m\u001b[0mclassification_report\u001b[0m\u001b[0;34m(\u001b[0m\u001b[0mY_test\u001b[0m\u001b[0;34m,\u001b[0m \u001b[0mY_pred\u001b[0m\u001b[0;34m)\u001b[0m\u001b[0;34m)\u001b[0m\u001b[0;34m\u001b[0m\u001b[0;34m\u001b[0m\u001b[0m\n\u001b[0m",
            "\u001b[0;32m/usr/local/lib/python3.10/dist-packages/sklearn/utils/_param_validation.py\u001b[0m in \u001b[0;36mwrapper\u001b[0;34m(*args, **kwargs)\u001b[0m\n\u001b[1;32m    214\u001b[0m                     )\n\u001b[1;32m    215\u001b[0m                 ):\n\u001b[0;32m--> 216\u001b[0;31m                     \u001b[0;32mreturn\u001b[0m \u001b[0mfunc\u001b[0m\u001b[0;34m(\u001b[0m\u001b[0;34m*\u001b[0m\u001b[0margs\u001b[0m\u001b[0;34m,\u001b[0m \u001b[0;34m**\u001b[0m\u001b[0mkwargs\u001b[0m\u001b[0;34m)\u001b[0m\u001b[0;34m\u001b[0m\u001b[0;34m\u001b[0m\u001b[0m\n\u001b[0m\u001b[1;32m    217\u001b[0m             \u001b[0;32mexcept\u001b[0m \u001b[0mInvalidParameterError\u001b[0m \u001b[0;32mas\u001b[0m \u001b[0me\u001b[0m\u001b[0;34m:\u001b[0m\u001b[0;34m\u001b[0m\u001b[0;34m\u001b[0m\u001b[0m\n\u001b[1;32m    218\u001b[0m                 \u001b[0;31m# When the function is just a wrapper around an estimator, we allow\u001b[0m\u001b[0;34m\u001b[0m\u001b[0;34m\u001b[0m\u001b[0m\n",
            "\u001b[0;32m/usr/local/lib/python3.10/dist-packages/sklearn/metrics/_classification.py\u001b[0m in \u001b[0;36mclassification_report\u001b[0;34m(y_true, y_pred, labels, target_names, sample_weight, digits, output_dict, zero_division)\u001b[0m\n\u001b[1;32m   2669\u001b[0m \u001b[0;34m\u001b[0m\u001b[0m\n\u001b[1;32m   2670\u001b[0m     \u001b[0my_true\u001b[0m\u001b[0;34m,\u001b[0m \u001b[0my_pred\u001b[0m \u001b[0;34m=\u001b[0m \u001b[0mattach_unique\u001b[0m\u001b[0;34m(\u001b[0m\u001b[0my_true\u001b[0m\u001b[0;34m,\u001b[0m \u001b[0my_pred\u001b[0m\u001b[0;34m)\u001b[0m\u001b[0;34m\u001b[0m\u001b[0;34m\u001b[0m\u001b[0m\n\u001b[0;32m-> 2671\u001b[0;31m     \u001b[0my_type\u001b[0m\u001b[0;34m,\u001b[0m \u001b[0my_true\u001b[0m\u001b[0;34m,\u001b[0m \u001b[0my_pred\u001b[0m \u001b[0;34m=\u001b[0m \u001b[0m_check_targets\u001b[0m\u001b[0;34m(\u001b[0m\u001b[0my_true\u001b[0m\u001b[0;34m,\u001b[0m \u001b[0my_pred\u001b[0m\u001b[0;34m)\u001b[0m\u001b[0;34m\u001b[0m\u001b[0;34m\u001b[0m\u001b[0m\n\u001b[0m\u001b[1;32m   2672\u001b[0m \u001b[0;34m\u001b[0m\u001b[0m\n\u001b[1;32m   2673\u001b[0m     \u001b[0;32mif\u001b[0m \u001b[0mlabels\u001b[0m \u001b[0;32mis\u001b[0m \u001b[0;32mNone\u001b[0m\u001b[0;34m:\u001b[0m\u001b[0;34m\u001b[0m\u001b[0;34m\u001b[0m\u001b[0m\n",
            "\u001b[0;32m/usr/local/lib/python3.10/dist-packages/sklearn/metrics/_classification.py\u001b[0m in \u001b[0;36m_check_targets\u001b[0;34m(y_true, y_pred)\u001b[0m\n\u001b[1;32m    105\u001b[0m \u001b[0;34m\u001b[0m\u001b[0m\n\u001b[1;32m    106\u001b[0m     \u001b[0;32mif\u001b[0m \u001b[0mlen\u001b[0m\u001b[0;34m(\u001b[0m\u001b[0my_type\u001b[0m\u001b[0;34m)\u001b[0m \u001b[0;34m>\u001b[0m \u001b[0;36m1\u001b[0m\u001b[0;34m:\u001b[0m\u001b[0;34m\u001b[0m\u001b[0;34m\u001b[0m\u001b[0m\n\u001b[0;32m--> 107\u001b[0;31m         raise ValueError(\n\u001b[0m\u001b[1;32m    108\u001b[0m             \"Classification metrics can't handle a mix of {0} and {1} targets\".format(\n\u001b[1;32m    109\u001b[0m                 \u001b[0mtype_true\u001b[0m\u001b[0;34m,\u001b[0m \u001b[0mtype_pred\u001b[0m\u001b[0;34m\u001b[0m\u001b[0;34m\u001b[0m\u001b[0m\n",
            "\u001b[0;31mValueError\u001b[0m: Classification metrics can't handle a mix of binary and continuous targets"
          ]
        }
      ]
    },
    {
      "cell_type": "code",
      "source": [
        "drive.flush_and_unmount()"
      ],
      "metadata": {
        "id": "b3RQLd_ITeW3"
      },
      "execution_count": null,
      "outputs": []
    },
    {
      "cell_type": "code",
      "source": [],
      "metadata": {
        "id": "9xLPR_tLwPwA"
      },
      "execution_count": null,
      "outputs": []
    }
  ]
}