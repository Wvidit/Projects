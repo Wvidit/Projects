{
  "nbformat": 4,
  "nbformat_minor": 0,
  "metadata": {
    "colab": {
      "provenance": [],
      "gpuType": "V28"
    },
    "kernelspec": {
      "name": "python3",
      "display_name": "Python 3"
    },
    "language_info": {
      "name": "python"
    },
    "accelerator": "TPU"
  },
  "cells": [
    {
      "cell_type": "code",
      "execution_count": 14,
      "metadata": {
        "id": "nQzjBi6mUApV"
      },
      "outputs": [],
      "source": [
        "\n",
        "import tensorflow as tf\n",
        "import numpy as np\n",
        "import sklearn as sk\n",
        "import matplotlib.pyplot as plt\n",
        "from tensorflow.keras.losses import SparseCategoricalCrossentropy\n",
        "from tensorflow.keras.activations import relu, softmax, sigmoid\n",
        "from tensorflow.keras import regularizers\n",
        "from tensorflow.keras.models import Sequential\n",
        "from tensorflow.keras.layers import Dense, Lambda\n",
        "from tensorflow.keras.optimizers import Adam\n",
        "from sklearn.metrics import classification_report"
      ]
    },
    {
      "cell_type": "markdown",
      "source": [
        "**Mounting Google Drive**"
      ],
      "metadata": {
        "id": "UcAQd2kPTGEF"
      }
    },
    {
      "cell_type": "code",
      "source": [
        "from google.colab import drive\n",
        "drive.mount('/content/drive')"
      ],
      "metadata": {
        "colab": {
          "base_uri": "https://localhost:8080/"
        },
        "id": "_VcXvrsES9KM",
        "outputId": "c0ed3c3f-9b92-41da-813c-99cbeb77ba94"
      },
      "execution_count": 2,
      "outputs": [
        {
          "output_type": "stream",
          "name": "stdout",
          "text": [
            "Mounted at /content/drive\n"
          ]
        }
      ]
    },
    {
      "cell_type": "markdown",
      "source": [
        "**Function used**\n",
        "\n",
        "\n",
        "*  To trim dataset:  https://drive.google.com/file/d/1QADrY4kxUQE5P3Nud32PFe5-a51zTZDu/view?usp=drive_link\n",
        "\n",
        "compile(data_ptr -> pandas dataframe file, fill_mode -> str)"
      ],
      "metadata": {
        "id": "N9doeufJUIbk"
      }
    },
    {
      "cell_type": "code",
      "source": [
        "import pandas as pd\n",
        "import seaborn as sns\n",
        "data = pd.read_csv('/content/drive/My Drive/Statistella/train.csv')"
      ],
      "metadata": {
        "id": "d6ApOV62V7s7"
      },
      "execution_count": 3,
      "outputs": []
    },
    {
      "cell_type": "code",
      "source": [
        "\n",
        "data.drop([\n",
        "\"CODE_GENDER\",\n",
        "\"DAYS_REGISTRATION\",\n",
        "\"FLAG_EMP_PHONE\",\n",
        "\"FLAG_MOBIL\",\n",
        "\"FLAG_WORK_PHONE\",\n",
        "\"HOUR_APPR_PROCESS_START\",\n",
        "\"LIVE_CITY_NOT_WORK_CITY\",\n",
        "\"LIVE_REGION_NOT_WORK_REGION\",\n",
        "\"NAME_TYPE_SUITE\",\n",
        "\"OCCUPATION_TYPE\",\n",
        "\"ORGANIZATION_TYPE\",\n",
        "\"REG_CITY_NOT_LIVE_CITY\",\n",
        "\"REG_CITY_NOT_WORK_CITY\",\n",
        "\"REG_REGION_NOT_LIVE_REGION\",\n",
        "\"REG_REGION_NOT_WORK_REGION\",\n",
        "\"REGION_POPULATION_RELATIVE\",\n",
        "\"REGION_RATING_CLIENT\",\n",
        "\"WEEKDAY_APPR_PROCESS_START\",\n",
        "\"ID\"], axis =1)\n",
        "\n",
        "from sklearn.preprocessing import LabelEncoder, OneHotEncoder\n",
        "from pandas.api.types import is_numeric_dtype\n",
        "\n",
        "encoder = OneHotEncoder(sparse_output=False, handle_unknown='ignore')\n",
        "\n",
        "for column in data.columns:\n",
        "    if not is_numeric_dtype(data[column]):\n",
        "      data[column] = encoder.fit_transform(data[[column]])\n",
        "\n",
        "import importlib.util, os\n",
        "spec = importlib.util.spec_from_file_location(\"fill\", \"/content/drive/My Drive/Statistella/data_compiler.py\")\n",
        "fill = importlib.util.module_from_spec(spec)\n",
        "spec.loader.exec_module(fill)\n",
        "\n",
        "fill.compile(data, \"mean\");\n",
        "\n",
        "print(data.head(20))\n",
        "from sklearn.model_selection import train_test_split\n",
        "Y = data['TARGET']\n",
        "X = data.drop(['TARGET', \"DAYS_BIRTH\"], axis = 1)\n",
        "X[[\"DAYS_EMPLOYED\", \"DAYS_REGISTRATION\", \"DAYS_ID_PUBLISH\", \"OWN_CAR_AGE\"]] /= 500\n",
        "X_train, X_test, Y_train, Y_test = train_test_split(X, Y, test_size=0.2, random_state=42)\n",
        "print(Y_train)"
      ],
      "metadata": {
        "id": "LUfWSyijdXzw",
        "collapsed": true,
        "outputId": "b01e0453-e7ef-4787-f644-277a08b0b061",
        "colab": {
          "base_uri": "https://localhost:8080/"
        }
      },
      "execution_count": 4,
      "outputs": [
        {
          "output_type": "stream",
          "name": "stdout",
          "text": [
            "        ID  TARGET  NAME_CONTRACT_TYPE  CODE_GENDER  FLAG_OWN_CAR  \\\n",
            "0   196348       0                 1.0          1.0           1.0   \n",
            "1   147976       0                 1.0          0.0           1.0   \n",
            "2    52662       0                 0.0          1.0           1.0   \n",
            "3   101577       0                 1.0          1.0           1.0   \n",
            "4   173078       0                 1.0          1.0           0.0   \n",
            "5    10383       0                 1.0          1.0           1.0   \n",
            "6    59786       0                 1.0          1.0           1.0   \n",
            "7   129341       0                 1.0          1.0           1.0   \n",
            "8   147812       0                 1.0          1.0           1.0   \n",
            "9    87244       1                 1.0          0.0           0.0   \n",
            "10   69028       0                 1.0          0.0           0.0   \n",
            "11   76892       0                 1.0          0.0           0.0   \n",
            "12  212886       0                 1.0          1.0           1.0   \n",
            "13   15888       0                 1.0          1.0           0.0   \n",
            "14  123956       1                 1.0          1.0           1.0   \n",
            "15  150567       0                 1.0          0.0           0.0   \n",
            "16  180014       0                 1.0          0.0           0.0   \n",
            "17   77529       0                 1.0          0.0           1.0   \n",
            "18   74924       0                 1.0          1.0           1.0   \n",
            "19   72661       0                 1.0          1.0           1.0   \n",
            "\n",
            "    FLAG_OWN_REALTY  CNT_CHILDREN  AMT_INCOME_TOTAL  AMT_CREDIT  AMT_ANNUITY  \\\n",
            "0               0.0             2          225000.0    785398.5      33403.5   \n",
            "1               0.0             0           90000.0    592560.0      35937.0   \n",
            "2               0.0             1          126000.0    202500.0      10125.0   \n",
            "3               0.0             0          157500.0    254700.0      18531.0   \n",
            "4               1.0             0          540000.0   1252363.5      47830.5   \n",
            "5               1.0             0          126000.0    814041.0      23800.5   \n",
            "6               0.0             0          292500.0    814041.0      23931.0   \n",
            "7               0.0             0           81000.0    167121.0      11758.5   \n",
            "8               0.0             1          270000.0    450000.0      24543.0   \n",
            "9               0.0             2          202500.0    942300.0      34749.0   \n",
            "10              1.0             0          162000.0    715095.0      53595.0   \n",
            "11              0.0             0          112500.0    481176.0      26230.5   \n",
            "12              0.0             0          303750.0    497520.0      39438.0   \n",
            "13              1.0             0          270000.0    814041.0      26388.0   \n",
            "14              0.0             0          112500.0    276277.5      12298.5   \n",
            "15              0.0             0          202500.0    900000.0      46084.5   \n",
            "16              1.0             1          146250.0    786505.5      42795.0   \n",
            "17              0.0             2          117000.0    178290.0      18729.0   \n",
            "18              0.0             3           81000.0    225000.0      11488.5   \n",
            "19              0.0             0          119250.0    255429.0      26950.5   \n",
            "\n",
            "    ...  FLAG_DOCUMENT_18  FLAG_DOCUMENT_19  FLAG_DOCUMENT_20  \\\n",
            "0   ...                 0                 0                 0   \n",
            "1   ...                 0                 0                 0   \n",
            "2   ...                 0                 0                 0   \n",
            "3   ...                 0                 0                 0   \n",
            "4   ...                 0                 0                 0   \n",
            "5   ...                 0                 0                 0   \n",
            "6   ...                 0                 0                 0   \n",
            "7   ...                 0                 0                 0   \n",
            "8   ...                 0                 0                 0   \n",
            "9   ...                 0                 0                 0   \n",
            "10  ...                 0                 0                 0   \n",
            "11  ...                 0                 0                 0   \n",
            "12  ...                 0                 0                 0   \n",
            "13  ...                 0                 0                 0   \n",
            "14  ...                 0                 0                 0   \n",
            "15  ...                 0                 0                 0   \n",
            "16  ...                 0                 0                 0   \n",
            "17  ...                 0                 0                 0   \n",
            "18  ...                 0                 0                 0   \n",
            "19  ...                 0                 0                 0   \n",
            "\n",
            "    FLAG_DOCUMENT_21  AMT_REQ_CREDIT_BUREAU_HOUR  AMT_REQ_CREDIT_BUREAU_DAY  \\\n",
            "0                  0                    0.000000                    0.00000   \n",
            "1                  0                    0.006494                    0.00724   \n",
            "2                  0                    0.000000                    0.00000   \n",
            "3                  0                    0.006494                    0.00724   \n",
            "4                  0                    0.000000                    0.00000   \n",
            "5                  0                    0.000000                    0.00000   \n",
            "6                  0                    0.000000                    0.00000   \n",
            "7                  0                    0.000000                    0.00000   \n",
            "8                  0                    0.000000                    0.00000   \n",
            "9                  0                    0.000000                    0.00000   \n",
            "10                 0                    0.000000                    0.00000   \n",
            "11                 0                    0.006494                    0.00724   \n",
            "12                 0                    0.000000                    0.00000   \n",
            "13                 0                    0.000000                    0.00000   \n",
            "14                 0                    0.006494                    0.00724   \n",
            "15                 0                    0.000000                    0.00000   \n",
            "16                 0                    0.000000                    0.00000   \n",
            "17                 0                    0.006494                    0.00724   \n",
            "18                 0                    0.000000                    0.00000   \n",
            "19                 0                    0.000000                    0.00000   \n",
            "\n",
            "    AMT_REQ_CREDIT_BUREAU_WEEK  AMT_REQ_CREDIT_BUREAU_MON  \\\n",
            "0                     0.000000                   0.000000   \n",
            "1                     0.034369                   0.265761   \n",
            "2                     0.000000                   1.000000   \n",
            "3                     0.034369                   0.265761   \n",
            "4                     1.000000                   0.000000   \n",
            "5                     0.000000                   0.000000   \n",
            "6                     0.000000                   0.000000   \n",
            "7                     0.000000                   0.000000   \n",
            "8                     0.000000                   0.000000   \n",
            "9                     0.000000                   0.000000   \n",
            "10                    0.000000                   0.000000   \n",
            "11                    0.034369                   0.265761   \n",
            "12                    0.000000                   0.000000   \n",
            "13                    0.000000                   0.000000   \n",
            "14                    0.034369                   0.265761   \n",
            "15                    1.000000                   0.000000   \n",
            "16                    0.000000                   1.000000   \n",
            "17                    0.034369                   0.265761   \n",
            "18                    0.000000                   0.000000   \n",
            "19                    0.000000                   0.000000   \n",
            "\n",
            "    AMT_REQ_CREDIT_BUREAU_QRT  AMT_REQ_CREDIT_BUREAU_YEAR  \n",
            "0                    0.000000                    3.000000  \n",
            "1                    0.264515                    1.894777  \n",
            "2                    0.000000                    4.000000  \n",
            "3                    0.264515                    1.894777  \n",
            "4                    0.000000                    5.000000  \n",
            "5                    1.000000                    3.000000  \n",
            "6                    0.000000                    1.000000  \n",
            "7                    0.000000                    1.000000  \n",
            "8                    0.000000                    2.000000  \n",
            "9                    0.000000                    6.000000  \n",
            "10                   0.000000                    2.000000  \n",
            "11                   0.264515                    1.894777  \n",
            "12                   0.000000                    2.000000  \n",
            "13                   0.000000                    0.000000  \n",
            "14                   0.264515                    1.894777  \n",
            "15                   0.000000                    0.000000  \n",
            "16                   0.000000                    3.000000  \n",
            "17                   0.264515                    1.894777  \n",
            "18                   1.000000                    1.000000  \n",
            "19                   0.000000                    2.000000  \n",
            "\n",
            "[20 rows x 122 columns]\n",
            "54931     0\n",
            "105184    0\n",
            "49525     0\n",
            "161471    0\n",
            "39438     0\n",
            "         ..\n",
            "119879    1\n",
            "103694    0\n",
            "131932    0\n",
            "146867    0\n",
            "121958    0\n",
            "Name: TARGET, Length: 172206, dtype: int64\n"
          ]
        }
      ]
    },
    {
      "cell_type": "code",
      "source": [
        "\n",
        "model1 = Sequential([\n",
        "    Dense(units = 8, activation = 'relu', bias_regularizer = regularizers.L1(0.01)),\n",
        "    Dense(units = 4, activation = 'relu'),\n",
        "    Dense(units = 1, activation = 'sigmoid'),\n",
        "])\n",
        "model1.compile(optimizer = Adam(learning_rate = 1e-5), loss = BinaryCrossentropy())\n",
        "model1.fit(X_train, Y_train, epochs = 30)\n"
      ],
      "metadata": {
        "id": "5KPM8aOpPzUq"
      },
      "execution_count": null,
      "outputs": []
    },
    {
      "cell_type": "code",
      "source": [
        "from tensorflow.keras.layers import Lambda\n",
        "model2 = Sequential([\n",
        "    Dense(units = 2, activation = 'sigmoid', bias_regularizer = regularizers.L2(0.001)),\n",
        "    Lambda(lambda x:x*10000),\n",
        "    #Dense(units = 2, activation = 'relu'),\n",
        "    Dense(units = 2, activation = 'softmax'),\n",
        "])\n",
        "\n",
        "model2.compile(optimizer = Adam(learning_rate = 1e-5), loss = SparseCategoricalCrossentropy())\n",
        "model2.fit(X_train, Y_train, epochs = 4)"
      ],
      "metadata": {
        "id": "H9_Z4RtmTaCX",
        "outputId": "0f84a11b-d9fd-4e86-c3ef-79960bb2f260",
        "colab": {
          "base_uri": "https://localhost:8080/"
        }
      },
      "execution_count": 84,
      "outputs": [
        {
          "output_type": "stream",
          "name": "stdout",
          "text": [
            "Epoch 1/4\n",
            "5382/5382 [==============================] - 8s 1ms/step - loss: 733.6776\n",
            "Epoch 2/4\n",
            "5382/5382 [==============================] - 8s 1ms/step - loss: 659.2159\n",
            "Epoch 3/4\n",
            "5382/5382 [==============================] - 8s 1ms/step - loss: 584.0530\n",
            "Epoch 4/4\n",
            "5382/5382 [==============================] - 8s 1ms/step - loss: 509.6241\n"
          ]
        },
        {
          "output_type": "execute_result",
          "data": {
            "text/plain": [
              "<keras.src.callbacks.History at 0x7dc1e414ce50>"
            ]
          },
          "metadata": {},
          "execution_count": 84
        }
      ]
    },
    {
      "cell_type": "code",
      "source": [
        "from sklearn.linear_model import LogisticRegression\n",
        "model = LogisticRegression(penalty='l2')\n",
        "model.fit(X_train, Y_train)\n",
        "y_pred = model.predict(X_test)\n",
        "print(classification_report(Y_test, y_pred))"
      ],
      "metadata": {
        "id": "0x2M5gdXsDnz",
        "outputId": "1ce2dc2d-4a85-43c0-fd10-f1a1a23c45dd",
        "colab": {
          "base_uri": "https://localhost:8080/",
          "height": 373
        }
      },
      "execution_count": 7,
      "outputs": [
        {
          "output_type": "error",
          "ename": "ValueError",
          "evalue": "Solver lbfgs supports only 'l2' or None penalties, got l1 penalty.",
          "traceback": [
            "\u001b[0;31m---------------------------------------------------------------------------\u001b[0m",
            "\u001b[0;31mValueError\u001b[0m                                Traceback (most recent call last)",
            "\u001b[0;32m<ipython-input-7-8e953ccc77a7>\u001b[0m in \u001b[0;36m<cell line: 3>\u001b[0;34m()\u001b[0m\n\u001b[1;32m      1\u001b[0m \u001b[0;32mfrom\u001b[0m \u001b[0msklearn\u001b[0m\u001b[0;34m.\u001b[0m\u001b[0mlinear_model\u001b[0m \u001b[0;32mimport\u001b[0m \u001b[0mLogisticRegression\u001b[0m\u001b[0;34m\u001b[0m\u001b[0;34m\u001b[0m\u001b[0m\n\u001b[1;32m      2\u001b[0m \u001b[0mmodel\u001b[0m \u001b[0;34m=\u001b[0m \u001b[0mLogisticRegression\u001b[0m\u001b[0;34m(\u001b[0m\u001b[0mpenalty\u001b[0m\u001b[0;34m=\u001b[0m\u001b[0;34m'l1'\u001b[0m\u001b[0;34m)\u001b[0m\u001b[0;34m\u001b[0m\u001b[0;34m\u001b[0m\u001b[0m\n\u001b[0;32m----> 3\u001b[0;31m \u001b[0mmodel\u001b[0m\u001b[0;34m.\u001b[0m\u001b[0mfit\u001b[0m\u001b[0;34m(\u001b[0m\u001b[0mX_train\u001b[0m\u001b[0;34m,\u001b[0m \u001b[0mY_train\u001b[0m\u001b[0;34m)\u001b[0m\u001b[0;34m\u001b[0m\u001b[0;34m\u001b[0m\u001b[0m\n\u001b[0m\u001b[1;32m      4\u001b[0m \u001b[0my_pred\u001b[0m \u001b[0;34m=\u001b[0m \u001b[0mmodel\u001b[0m\u001b[0;34m.\u001b[0m\u001b[0mpredict\u001b[0m\u001b[0;34m(\u001b[0m\u001b[0mX_test\u001b[0m\u001b[0;34m)\u001b[0m\u001b[0;34m\u001b[0m\u001b[0;34m\u001b[0m\u001b[0m\n\u001b[1;32m      5\u001b[0m \u001b[0mprint\u001b[0m\u001b[0;34m(\u001b[0m\u001b[0mclassification_report\u001b[0m\u001b[0;34m(\u001b[0m\u001b[0mY_test\u001b[0m\u001b[0;34m,\u001b[0m \u001b[0my_pred\u001b[0m\u001b[0;34m)\u001b[0m\u001b[0;34m)\u001b[0m\u001b[0;34m\u001b[0m\u001b[0;34m\u001b[0m\u001b[0m\n",
            "\u001b[0;32m/usr/local/lib/python3.10/dist-packages/sklearn/base.py\u001b[0m in \u001b[0;36mwrapper\u001b[0;34m(estimator, *args, **kwargs)\u001b[0m\n\u001b[1;32m   1387\u001b[0m                 )\n\u001b[1;32m   1388\u001b[0m             ):\n\u001b[0;32m-> 1389\u001b[0;31m                 \u001b[0;32mreturn\u001b[0m \u001b[0mfit_method\u001b[0m\u001b[0;34m(\u001b[0m\u001b[0mestimator\u001b[0m\u001b[0;34m,\u001b[0m \u001b[0;34m*\u001b[0m\u001b[0margs\u001b[0m\u001b[0;34m,\u001b[0m \u001b[0;34m**\u001b[0m\u001b[0mkwargs\u001b[0m\u001b[0;34m)\u001b[0m\u001b[0;34m\u001b[0m\u001b[0;34m\u001b[0m\u001b[0m\n\u001b[0m\u001b[1;32m   1390\u001b[0m \u001b[0;34m\u001b[0m\u001b[0m\n\u001b[1;32m   1391\u001b[0m         \u001b[0;32mreturn\u001b[0m \u001b[0mwrapper\u001b[0m\u001b[0;34m\u001b[0m\u001b[0;34m\u001b[0m\u001b[0m\n",
            "\u001b[0;32m/usr/local/lib/python3.10/dist-packages/sklearn/linear_model/_logistic.py\u001b[0m in \u001b[0;36mfit\u001b[0;34m(self, X, y, sample_weight)\u001b[0m\n\u001b[1;32m   1191\u001b[0m         \u001b[0mThe\u001b[0m \u001b[0mSAGA\u001b[0m \u001b[0msolver\u001b[0m \u001b[0msupports\u001b[0m \u001b[0mboth\u001b[0m \u001b[0mfloat64\u001b[0m \u001b[0;32mand\u001b[0m \u001b[0mfloat32\u001b[0m \u001b[0mbit\u001b[0m \u001b[0marrays\u001b[0m\u001b[0;34m.\u001b[0m\u001b[0;34m\u001b[0m\u001b[0;34m\u001b[0m\u001b[0m\n\u001b[1;32m   1192\u001b[0m         \"\"\"\n\u001b[0;32m-> 1193\u001b[0;31m         \u001b[0msolver\u001b[0m \u001b[0;34m=\u001b[0m \u001b[0m_check_solver\u001b[0m\u001b[0;34m(\u001b[0m\u001b[0mself\u001b[0m\u001b[0;34m.\u001b[0m\u001b[0msolver\u001b[0m\u001b[0;34m,\u001b[0m \u001b[0mself\u001b[0m\u001b[0;34m.\u001b[0m\u001b[0mpenalty\u001b[0m\u001b[0;34m,\u001b[0m \u001b[0mself\u001b[0m\u001b[0;34m.\u001b[0m\u001b[0mdual\u001b[0m\u001b[0;34m)\u001b[0m\u001b[0;34m\u001b[0m\u001b[0;34m\u001b[0m\u001b[0m\n\u001b[0m\u001b[1;32m   1194\u001b[0m \u001b[0;34m\u001b[0m\u001b[0m\n\u001b[1;32m   1195\u001b[0m         \u001b[0;32mif\u001b[0m \u001b[0mself\u001b[0m\u001b[0;34m.\u001b[0m\u001b[0mpenalty\u001b[0m \u001b[0;34m!=\u001b[0m \u001b[0;34m\"elasticnet\"\u001b[0m \u001b[0;32mand\u001b[0m \u001b[0mself\u001b[0m\u001b[0;34m.\u001b[0m\u001b[0ml1_ratio\u001b[0m \u001b[0;32mis\u001b[0m \u001b[0;32mnot\u001b[0m \u001b[0;32mNone\u001b[0m\u001b[0;34m:\u001b[0m\u001b[0;34m\u001b[0m\u001b[0;34m\u001b[0m\u001b[0m\n",
            "\u001b[0;32m/usr/local/lib/python3.10/dist-packages/sklearn/linear_model/_logistic.py\u001b[0m in \u001b[0;36m_check_solver\u001b[0;34m(solver, penalty, dual)\u001b[0m\n\u001b[1;32m     61\u001b[0m \u001b[0;32mdef\u001b[0m \u001b[0m_check_solver\u001b[0m\u001b[0;34m(\u001b[0m\u001b[0msolver\u001b[0m\u001b[0;34m,\u001b[0m \u001b[0mpenalty\u001b[0m\u001b[0;34m,\u001b[0m \u001b[0mdual\u001b[0m\u001b[0;34m)\u001b[0m\u001b[0;34m:\u001b[0m\u001b[0;34m\u001b[0m\u001b[0;34m\u001b[0m\u001b[0m\n\u001b[1;32m     62\u001b[0m     \u001b[0;32mif\u001b[0m \u001b[0msolver\u001b[0m \u001b[0;32mnot\u001b[0m \u001b[0;32min\u001b[0m \u001b[0;34m[\u001b[0m\u001b[0;34m\"liblinear\"\u001b[0m\u001b[0;34m,\u001b[0m \u001b[0;34m\"saga\"\u001b[0m\u001b[0;34m]\u001b[0m \u001b[0;32mand\u001b[0m \u001b[0mpenalty\u001b[0m \u001b[0;32mnot\u001b[0m \u001b[0;32min\u001b[0m \u001b[0;34m(\u001b[0m\u001b[0;34m\"l2\"\u001b[0m\u001b[0;34m,\u001b[0m \u001b[0;32mNone\u001b[0m\u001b[0;34m)\u001b[0m\u001b[0;34m:\u001b[0m\u001b[0;34m\u001b[0m\u001b[0;34m\u001b[0m\u001b[0m\n\u001b[0;32m---> 63\u001b[0;31m         raise ValueError(\n\u001b[0m\u001b[1;32m     64\u001b[0m             \u001b[0;34mf\"Solver {solver} supports only 'l2' or None penalties, got {penalty} \"\u001b[0m\u001b[0;34m\u001b[0m\u001b[0;34m\u001b[0m\u001b[0m\n\u001b[1;32m     65\u001b[0m             \u001b[0;34m\"penalty.\"\u001b[0m\u001b[0;34m\u001b[0m\u001b[0;34m\u001b[0m\u001b[0m\n",
            "\u001b[0;31mValueError\u001b[0m: Solver lbfgs supports only 'l2' or None penalties, got l1 penalty."
          ]
        }
      ]
    },
    {
      "cell_type": "code",
      "source": [
        "model1.save('/content/drive/My Drive/Statistella/model1.h5')\n",
        "# Y_pred = model1.predict(X_test)\n",
        "# submission = []\n",
        "\n",
        "\n",
        "\n",
        "# # print(Y_pred)\n",
        "\n",
        "# from sklearn.metrics import roc_curve\n",
        "\n",
        "# # Compute ROC curve\n",
        "# fpr, tpr, thresholds = roc_curve(Y_test, Y_pred)\n",
        "\n",
        "# # Optimal threshold (You can choose based on your criterion)\n",
        "# optimal_idx = (tpr - fpr).argmax()\n",
        "# optimal_threshold = thresholds[optimal_idx]\n",
        "# print(\"Optimal Threshold:\", optimal_threshold)"
      ],
      "metadata": {
        "colab": {
          "base_uri": "https://localhost:8080/",
          "height": 211
        },
        "id": "RVx3LCBpzZU1",
        "outputId": "8386e117-5bdd-4bba-beed-a63850c204cd"
      },
      "execution_count": null,
      "outputs": [
        {
          "output_type": "error",
          "ename": "NameError",
          "evalue": "name 'model1' is not defined",
          "traceback": [
            "\u001b[0;31m---------------------------------------------------------------------------\u001b[0m",
            "\u001b[0;31mNameError\u001b[0m                                 Traceback (most recent call last)",
            "\u001b[0;32m<ipython-input-75-5e9de6c12686>\u001b[0m in \u001b[0;36m<cell line: 1>\u001b[0;34m()\u001b[0m\n\u001b[0;32m----> 1\u001b[0;31m \u001b[0mmodel1\u001b[0m\u001b[0;34m.\u001b[0m\u001b[0msave\u001b[0m\u001b[0;34m(\u001b[0m\u001b[0;34m'/content/drive/My Drive/Statistella/model1.h5'\u001b[0m\u001b[0;34m)\u001b[0m\u001b[0;34m\u001b[0m\u001b[0;34m\u001b[0m\u001b[0m\n\u001b[0m\u001b[1;32m      2\u001b[0m \u001b[0;31m# Y_pred = model1.predict(X_test)\u001b[0m\u001b[0;34m\u001b[0m\u001b[0;34m\u001b[0m\u001b[0m\n\u001b[1;32m      3\u001b[0m \u001b[0;31m# submission = []\u001b[0m\u001b[0;34m\u001b[0m\u001b[0;34m\u001b[0m\u001b[0m\n\u001b[1;32m      4\u001b[0m \u001b[0;34m\u001b[0m\u001b[0m\n\u001b[1;32m      5\u001b[0m \u001b[0;34m\u001b[0m\u001b[0m\n",
            "\u001b[0;31mNameError\u001b[0m: name 'model1' is not defined"
          ]
        }
      ]
    },
    {
      "cell_type": "code",
      "source": [],
      "metadata": {
        "id": "Eq0bcEHHj4R9"
      },
      "execution_count": null,
      "outputs": []
    },
    {
      "cell_type": "code",
      "source": [
        "\n",
        "model2.save('/content/drive/My Drive/Statistella/model2_B.h5')"
      ],
      "metadata": {
        "id": "5Ka4yTmyhxL0",
        "outputId": "71e98eea-692b-4873-f1ea-c07e5f3daafb",
        "colab": {
          "base_uri": "https://localhost:8080/"
        }
      },
      "execution_count": null,
      "outputs": [
        {
          "output_type": "stream",
          "name": "stderr",
          "text": [
            "/usr/local/lib/python3.10/dist-packages/keras/src/engine/training.py:3103: UserWarning: You are saving your model as an HDF5 file via `model.save()`. This file format is considered legacy. We recommend using instead the native Keras format, e.g. `model.save('my_model.keras')`.\n",
            "  saving_api.save_model(\n"
          ]
        }
      ]
    },
    {
      "cell_type": "code",
      "source": [
        "import h5py\n",
        "\n",
        "file_path = '/content/drive/My Drive/Statistella/model2_B.h5'\n",
        "\n",
        "\n",
        "\n",
        "from tensorflow.keras.models import load_model\n",
        "\n",
        "file_path =  '/content/drive/My Drive/Statistella/model2_A.h5'\n",
        "model = load_model(file_path)\n",
        "\n",
        "# Print model summary\n",
        "model.summary()\n",
        "\n",
        "predictions = model.predict(X_test)\n",
        "\n",
        "#f1_score(Y_test, predictions, labels=None, pos_label=1, average = 'binary', sample_weight=None, zero_division='warn')"
      ],
      "metadata": {
        "id": "6WSFyXsRDtVd",
        "outputId": "7e25ad4f-4ef8-45ac-b9d6-f8b1d095db97",
        "colab": {
          "base_uri": "https://localhost:8080/",
          "height": 1000
        }
      },
      "execution_count": 69,
      "outputs": [
        {
          "output_type": "stream",
          "name": "stdout",
          "text": [
            "Model: \"sequential_14\"\n",
            "_________________________________________________________________\n",
            " Layer (type)                Output Shape              Param #   \n",
            "=================================================================\n",
            " dense_44 (Dense)            (None, 6)                 732       \n",
            "                                                                 \n",
            " lambda_14 (Lambda)          (None, 6)                 0         \n",
            "                                                                 \n",
            " dense_45 (Dense)            (None, 3)                 21        \n",
            "                                                                 \n",
            " dense_46 (Dense)            (None, 2)                 8         \n",
            "                                                                 \n",
            "=================================================================\n",
            "Total params: 761 (2.97 KB)\n",
            "Trainable params: 761 (2.97 KB)\n",
            "Non-trainable params: 0 (0.00 Byte)\n",
            "_________________________________________________________________\n"
          ]
        },
        {
          "output_type": "error",
          "ename": "ValueError",
          "evalue": "in user code:\n\n    File \"/usr/local/lib/python3.10/dist-packages/keras/src/engine/training.py\", line 2440, in predict_function  *\n        return step_function(self, iterator)\n    File \"/usr/local/lib/python3.10/dist-packages/keras/src/engine/training.py\", line 2425, in step_function  **\n        outputs = model.distribute_strategy.run(run_step, args=(data,))\n    File \"/usr/local/lib/python3.10/dist-packages/keras/src/engine/training.py\", line 2413, in run_step  **\n        outputs = model.predict_step(data)\n    File \"/usr/local/lib/python3.10/dist-packages/keras/src/engine/training.py\", line 2381, in predict_step\n        return self(x, training=False)\n    File \"/usr/local/lib/python3.10/dist-packages/keras/src/utils/traceback_utils.py\", line 70, in error_handler\n        raise e.with_traceback(filtered_tb) from None\n    File \"/usr/local/lib/python3.10/dist-packages/keras/src/engine/input_spec.py\", line 298, in assert_input_compatibility\n        raise ValueError(\n\n    ValueError: Input 0 of layer \"sequential_14\" is incompatible with the layer: expected shape=(None, 121), found shape=(None, 120)\n",
          "traceback": [
            "\u001b[0;31m---------------------------------------------------------------------------\u001b[0m",
            "\u001b[0;31mValueError\u001b[0m                                Traceback (most recent call last)",
            "\u001b[0;32m<ipython-input-69-3c20ced8ab5d>\u001b[0m in \u001b[0;36m<cell line: 15>\u001b[0;34m()\u001b[0m\n\u001b[1;32m     13\u001b[0m \u001b[0mmodel\u001b[0m\u001b[0;34m.\u001b[0m\u001b[0msummary\u001b[0m\u001b[0;34m(\u001b[0m\u001b[0;34m)\u001b[0m\u001b[0;34m\u001b[0m\u001b[0;34m\u001b[0m\u001b[0m\n\u001b[1;32m     14\u001b[0m \u001b[0;34m\u001b[0m\u001b[0m\n\u001b[0;32m---> 15\u001b[0;31m \u001b[0mpredictions\u001b[0m \u001b[0;34m=\u001b[0m \u001b[0mmodel\u001b[0m\u001b[0;34m.\u001b[0m\u001b[0mpredict\u001b[0m\u001b[0;34m(\u001b[0m\u001b[0mX_test\u001b[0m\u001b[0;34m)\u001b[0m\u001b[0;34m\u001b[0m\u001b[0;34m\u001b[0m\u001b[0m\n\u001b[0m\u001b[1;32m     16\u001b[0m \u001b[0;34m\u001b[0m\u001b[0m\n\u001b[1;32m     17\u001b[0m \u001b[0;31m#f1_score(Y_test, predictions, labels=None, pos_label=1, average = 'binary', sample_weight=None, zero_division='warn')\u001b[0m\u001b[0;34m\u001b[0m\u001b[0;34m\u001b[0m\u001b[0m\n",
            "\u001b[0;32m/usr/local/lib/python3.10/dist-packages/keras/src/utils/traceback_utils.py\u001b[0m in \u001b[0;36merror_handler\u001b[0;34m(*args, **kwargs)\u001b[0m\n\u001b[1;32m     68\u001b[0m             \u001b[0;31m# To get the full stack trace, call:\u001b[0m\u001b[0;34m\u001b[0m\u001b[0;34m\u001b[0m\u001b[0m\n\u001b[1;32m     69\u001b[0m             \u001b[0;31m# `tf.debugging.disable_traceback_filtering()`\u001b[0m\u001b[0;34m\u001b[0m\u001b[0;34m\u001b[0m\u001b[0m\n\u001b[0;32m---> 70\u001b[0;31m             \u001b[0;32mraise\u001b[0m \u001b[0me\u001b[0m\u001b[0;34m.\u001b[0m\u001b[0mwith_traceback\u001b[0m\u001b[0;34m(\u001b[0m\u001b[0mfiltered_tb\u001b[0m\u001b[0;34m)\u001b[0m \u001b[0;32mfrom\u001b[0m \u001b[0;32mNone\u001b[0m\u001b[0;34m\u001b[0m\u001b[0;34m\u001b[0m\u001b[0m\n\u001b[0m\u001b[1;32m     71\u001b[0m         \u001b[0;32mfinally\u001b[0m\u001b[0;34m:\u001b[0m\u001b[0;34m\u001b[0m\u001b[0;34m\u001b[0m\u001b[0m\n\u001b[1;32m     72\u001b[0m             \u001b[0;32mdel\u001b[0m \u001b[0mfiltered_tb\u001b[0m\u001b[0;34m\u001b[0m\u001b[0;34m\u001b[0m\u001b[0m\n",
            "\u001b[0;32m/usr/local/lib/python3.10/dist-packages/keras/src/engine/training.py\u001b[0m in \u001b[0;36mtf__predict_function\u001b[0;34m(iterator)\u001b[0m\n\u001b[1;32m     13\u001b[0m                 \u001b[0;32mtry\u001b[0m\u001b[0;34m:\u001b[0m\u001b[0;34m\u001b[0m\u001b[0;34m\u001b[0m\u001b[0m\n\u001b[1;32m     14\u001b[0m                     \u001b[0mdo_return\u001b[0m \u001b[0;34m=\u001b[0m \u001b[0;32mTrue\u001b[0m\u001b[0;34m\u001b[0m\u001b[0;34m\u001b[0m\u001b[0m\n\u001b[0;32m---> 15\u001b[0;31m                     \u001b[0mretval_\u001b[0m \u001b[0;34m=\u001b[0m \u001b[0mag__\u001b[0m\u001b[0;34m.\u001b[0m\u001b[0mconverted_call\u001b[0m\u001b[0;34m(\u001b[0m\u001b[0mag__\u001b[0m\u001b[0;34m.\u001b[0m\u001b[0mld\u001b[0m\u001b[0;34m(\u001b[0m\u001b[0mstep_function\u001b[0m\u001b[0;34m)\u001b[0m\u001b[0;34m,\u001b[0m \u001b[0;34m(\u001b[0m\u001b[0mag__\u001b[0m\u001b[0;34m.\u001b[0m\u001b[0mld\u001b[0m\u001b[0;34m(\u001b[0m\u001b[0mself\u001b[0m\u001b[0;34m)\u001b[0m\u001b[0;34m,\u001b[0m \u001b[0mag__\u001b[0m\u001b[0;34m.\u001b[0m\u001b[0mld\u001b[0m\u001b[0;34m(\u001b[0m\u001b[0miterator\u001b[0m\u001b[0;34m)\u001b[0m\u001b[0;34m)\u001b[0m\u001b[0;34m,\u001b[0m \u001b[0;32mNone\u001b[0m\u001b[0;34m,\u001b[0m \u001b[0mfscope\u001b[0m\u001b[0;34m)\u001b[0m\u001b[0;34m\u001b[0m\u001b[0;34m\u001b[0m\u001b[0m\n\u001b[0m\u001b[1;32m     16\u001b[0m                 \u001b[0;32mexcept\u001b[0m\u001b[0;34m:\u001b[0m\u001b[0;34m\u001b[0m\u001b[0;34m\u001b[0m\u001b[0m\n\u001b[1;32m     17\u001b[0m                     \u001b[0mdo_return\u001b[0m \u001b[0;34m=\u001b[0m \u001b[0;32mFalse\u001b[0m\u001b[0;34m\u001b[0m\u001b[0;34m\u001b[0m\u001b[0m\n",
            "\u001b[0;31mValueError\u001b[0m: in user code:\n\n    File \"/usr/local/lib/python3.10/dist-packages/keras/src/engine/training.py\", line 2440, in predict_function  *\n        return step_function(self, iterator)\n    File \"/usr/local/lib/python3.10/dist-packages/keras/src/engine/training.py\", line 2425, in step_function  **\n        outputs = model.distribute_strategy.run(run_step, args=(data,))\n    File \"/usr/local/lib/python3.10/dist-packages/keras/src/engine/training.py\", line 2413, in run_step  **\n        outputs = model.predict_step(data)\n    File \"/usr/local/lib/python3.10/dist-packages/keras/src/engine/training.py\", line 2381, in predict_step\n        return self(x, training=False)\n    File \"/usr/local/lib/python3.10/dist-packages/keras/src/utils/traceback_utils.py\", line 70, in error_handler\n        raise e.with_traceback(filtered_tb) from None\n    File \"/usr/local/lib/python3.10/dist-packages/keras/src/engine/input_spec.py\", line 298, in assert_input_compatibility\n        raise ValueError(\n\n    ValueError: Input 0 of layer \"sequential_14\" is incompatible with the layer: expected shape=(None, 121), found shape=(None, 120)\n"
          ]
        }
      ]
    },
    {
      "cell_type": "code",
      "source": [
        "from sklearn.metrics import f1_score\n",
        "predictions = model2.predict(X_test)\n",
        "submission1 = []\n",
        "for i in predictions:\n",
        "  if i[0] < i[1]:\n",
        "    submission1.append(0)\n",
        "  else:\n",
        "    submission1.append(1)\n",
        "submissions = np.array(submission1)\n",
        "\n",
        "submission2 = []\n",
        "for i in predictions:\n",
        "  if i[0] > i[1]:\n",
        "    submission2.append(0)\n",
        "  else:\n",
        "    submission2.append(1)\n",
        "submissions = np.array(submission2)\n",
        "\n",
        "f1_score(Y_test, submission2, labels=None, pos_label=1, average = 'binary', sample_weight=None, zero_division='warn')\n",
        "\n",
        "#Best 0.22, 0.15 model2_A submission1\n",
        "# 0.93 0.12 model2_B submission2\n"
      ],
      "metadata": {
        "colab": {
          "base_uri": "https://localhost:8080/"
        },
        "id": "aED8hkhm20Zc",
        "outputId": "b9f217f9-d1b7-4e2c-de77-693f9453489d"
      },
      "execution_count": 86,
      "outputs": [
        {
          "output_type": "stream",
          "name": "stdout",
          "text": [
            "1346/1346 [==============================] - 2s 1ms/step\n"
          ]
        },
        {
          "output_type": "execute_result",
          "data": {
            "text/plain": [
              "0.001729106628242075"
            ]
          },
          "metadata": {},
          "execution_count": 86
        }
      ]
    },
    {
      "cell_type": "code",
      "source": [
        "# from tensorflow.keras.models import load_model\n",
        "\n",
        "# # Load the model\n",
        "# model = load_model('/content/drive/My Drive/Statistella/model2_B.h5')\n",
        "# model.summary()\n",
        "!$pip install pytables\n",
        "import pandas as pd\n",
        "\n",
        "# Load the .h5 file\n",
        "df = pd.read_hdf('/content/drive/My Drive/Statistella/model2_B.h5')\n",
        "print(df.head())"
      ],
      "metadata": {
        "colab": {
          "base_uri": "https://localhost:8080/",
          "height": 106
        },
        "id": "dzk7pYCywl_s",
        "outputId": "366ee794-fbf3-476c-db3a-76a455da715d"
      },
      "execution_count": null,
      "outputs": [
        {
          "output_type": "error",
          "ename": "SyntaxError",
          "evalue": "invalid syntax (<ipython-input-97-34a7eadef088>, line 6)",
          "traceback": [
            "\u001b[0;36m  File \u001b[0;32m\"<ipython-input-97-34a7eadef088>\"\u001b[0;36m, line \u001b[0;32m6\u001b[0m\n\u001b[0;31m    pip install pytables\u001b[0m\n\u001b[0m        ^\u001b[0m\n\u001b[0;31mSyntaxError\u001b[0m\u001b[0;31m:\u001b[0m invalid syntax\n"
          ]
        }
      ]
    },
    {
      "cell_type": "code",
      "source": [
        "drive.flush_and_unmount()"
      ],
      "metadata": {
        "id": "b3RQLd_ITeW3"
      },
      "execution_count": null,
      "outputs": []
    },
    {
      "cell_type": "code",
      "source": [],
      "metadata": {
        "id": "9xLPR_tLwPwA"
      },
      "execution_count": null,
      "outputs": []
    }
  ]
}